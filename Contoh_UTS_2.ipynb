{
  "nbformat": 4,
  "nbformat_minor": 0,
  "metadata": {
    "colab": {
      "provenance": [],
      "authorship_tag": "ABX9TyNi8TlpI2e6kCC8LrQCU89p",
      "include_colab_link": true
    },
    "kernelspec": {
      "name": "python3",
      "display_name": "Python 3"
    },
    "language_info": {
      "name": "python"
    }
  },
  "cells": [
    {
      "cell_type": "markdown",
      "metadata": {
        "id": "view-in-github",
        "colab_type": "text"
      },
      "source": [
        "<a href=\"https://colab.research.google.com/github/DONIHSAN/Data-Mining/blob/main/Contoh_UTS_2.ipynb\" target=\"_parent\"><img src=\"https://colab.research.google.com/assets/colab-badge.svg\" alt=\"Open In Colab\"/></a>"
      ]
    },
    {
      "cell_type": "code",
      "execution_count": 1,
      "metadata": {
        "colab": {
          "base_uri": "https://localhost:8080/"
        },
        "id": "wKyOY3_VY-wF",
        "outputId": "08903aaa-ac84-4050-d6ff-0b693adfc46b"
      },
      "outputs": [
        {
          "output_type": "stream",
          "name": "stdout",
          "text": [
            "Jumlah mahasiswa: 10\n",
            "Rata-rata nilai mahasiswa: 83.1\n",
            "Nilai maksimum: 100\n",
            "Nilai minimum: 55\n",
            "\n",
            "Jumlah mahasiswa tiap prodi:\n",
            "prodi\n",
            "Teknik Informatika    4\n",
            "Teknik Industri       3\n",
            "Teknik Lingkungan     3\n",
            "Name: count, dtype: int64\n",
            "\n",
            "Data mahasiswa prodi Teknik Informatika:\n",
            "        nim    nama  nilai               prodi\n",
            "0   3122001  Ikhsan     90  Teknik Informatika\n",
            "3   3122004   Fikri     70  Teknik Informatika\n",
            "6   3122007   Tiara     90  Teknik Informatika\n",
            "9  31220010    Dika     93  Teknik Informatika\n",
            "\n",
            "Data nilai mahasiswa yang lebih besar dari 85:\n",
            "        nim     nama  nilai               prodi\n",
            "0   3122001   Ikhsan     90  Teknik Informatika\n",
            "1   3122002    Syifa     95     Teknik Industri\n",
            "2   3122003  Anggita    100   Teknik Lingkungan\n",
            "6   3122007    Tiara     90  Teknik Informatika\n",
            "7   3122008     Hapi     88     Teknik Industri\n",
            "9  31220010     Dika     93  Teknik Informatika\n",
            "\n",
            "Rata-rata nilai mahasiswa tiap prodi:\n",
            "prodi\n",
            "Teknik Industri       82.666667\n",
            "Teknik Informatika    85.750000\n",
            "Teknik Lingkungan     80.000000\n",
            "Name: nilai, dtype: float64\n"
          ]
        }
      ],
      "source": [
        "import pandas as pd\n",
        "\n",
        "# Dataset\n",
        "dataset = pd.DataFrame({\n",
        "    'nim': ['3122001', '3122002', '3122003', '3122004', '3122005', '3122006', '3122007', '3122008', '3122009', '31220010'],\n",
        "    'nama': ['Ikhsan', 'Syifa', 'Anggita', 'Fikri', 'Rani', 'Inay', 'Tiara', 'Hapi', 'Rafli', 'Dika'],\n",
        "    'nilai': [90, 95, 100, 70, 65, 55, 90, 88, 85, 93],\n",
        "    'prodi': ['Teknik Informatika', 'Teknik Industri', 'Teknik Lingkungan', 'Teknik Informatika', 'Teknik Industri',\n",
        "              'Teknik Lingkungan', 'Teknik Informatika', 'Teknik Industri', 'Teknik Lingkungan', 'Teknik Informatika']\n",
        "})\n",
        "\n",
        "# 1. Jumlah mahasiswa\n",
        "jumlah_mahasiswa = len(dataset)\n",
        "print(f\"Jumlah mahasiswa: {jumlah_mahasiswa}\")\n",
        "\n",
        "# 2. Rata-rata nilai mahasiswa\n",
        "rata_rata_nilai = dataset['nilai'].mean()\n",
        "print(f\"Rata-rata nilai mahasiswa: {rata_rata_nilai}\")\n",
        "\n",
        "# 3. Nilai maksimum dan minimum\n",
        "nilai_maksimum = dataset['nilai'].max()\n",
        "nilai_minimum = dataset['nilai'].min()\n",
        "print(f\"Nilai maksimum: {nilai_maksimum}\")\n",
        "print(f\"Nilai minimum: {nilai_minimum}\")\n",
        "\n",
        "# 4. Jumlah mahasiswa tiap prodi\n",
        "jumlah_mahasiswa_per_prodi = dataset['prodi'].value_counts()\n",
        "print(\"\\nJumlah mahasiswa tiap prodi:\")\n",
        "print(jumlah_mahasiswa_per_prodi)\n",
        "\n",
        "# 5. Data mahasiswa prodi Teknik Informatika\n",
        "data_ti = dataset[dataset['prodi'] == 'Teknik Informatika']\n",
        "print(\"\\nData mahasiswa prodi Teknik Informatika:\")\n",
        "print(data_ti)\n",
        "\n",
        "# 6. Data nilai mahasiswa yang lebih besar dari 85\n",
        "data_nilai_lebih_85 = dataset[dataset['nilai'] > 85]\n",
        "print(\"\\nData nilai mahasiswa yang lebih besar dari 85:\")\n",
        "print(data_nilai_lebih_85)\n",
        "\n",
        "# 7. Rata-rata nilai mahasiswa tiap prodi\n",
        "rata_rata_nilai_per_prodi = dataset.groupby('prodi')['nilai'].mean()\n",
        "print(\"\\nRata-rata nilai mahasiswa tiap prodi:\")\n",
        "print(rata_rata_nilai_per_prodi)"
      ]
    }
  ]
}